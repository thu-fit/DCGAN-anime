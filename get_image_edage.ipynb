{
 "cells": [
  {
   "cell_type": "code",
   "execution_count": 1,
   "metadata": {
    "collapsed": true
   },
   "outputs": [],
   "source": [
    "import cv2\n",
    "import numpy as np\n",
    "import os\n",
    "from matplotlib import pyplot as plt\n",
    "\n"
   ]
  },
  {
   "cell_type": "code",
   "execution_count": 51,
   "metadata": {
    "collapsed": false
   },
   "outputs": [
    {
     "name": "stdout",
     "output_type": "stream",
     "text": [
      "0/51223\n",
      "uint8\n"
     ]
    }
   ],
   "source": [
    "src_dir = \"./data/anime\"\n",
    "dest_dir = \"./data/sketch\"\n",
    "if not os.path.exists(dest_dir):\n",
    "    os.mkdir(dest_dir)\n",
    "\n",
    "files = os.listdir(src_dir)\n",
    "l = len(files)\n",
    "for (i,fname) in enumerate(files[:1]):\n",
    "    # here flags=0 means the return image is grayscale\n",
    "    img = cv2.imread(os.path.join(src_dir, fname), flags=1)\n",
    "    \n",
    "    # detect edges\n",
    "    edges = 255 - cv2.Canny(img, threshold1=160, threshold2=210)\n",
    "    # save image\n",
    "    dest_fname = os.path.join(dest_dir, fname)\n",
    "    cv2.imwrite(dest_fname, edges)\n",
    "    print(\"{}/{}\".format(i,l))\n",
    "\n",
    "#     plt.subplot(121),plt.imshow(img,cmap = 'gray')\n",
    "#     plt.title('Original Image'), plt.xticks([]), plt.yticks([])\n",
    "#     plt.subplot(122),plt.imshow(edges,cmap = 'gray')\n",
    "#     plt.title('Edge Image 1'), plt.xticks([]), plt.yticks([])\n",
    "# #     plt.subplot(143),plt.imshow(255 - edges2,cmap = 'gray')\n",
    "# #     plt.title('Edge Image 2'), plt.xticks([]), plt.yticks([])\n",
    "# #     plt.subplot(144),plt.imshow(255 - edges3,cmap = 'gray')\n",
    "# #     plt.title('Edge Image 3'), plt.xticks([]), plt.yticks([])\n",
    "print(img.dtype)\n",
    "#     plt.show()"
   ]
  },
  {
   "cell_type": "code",
   "execution_count": null,
   "metadata": {
    "collapsed": true
   },
   "outputs": [],
   "source": []
  }
 ],
 "metadata": {
  "kernelspec": {
   "display_name": "opencv",
   "language": "python",
   "name": "opencv"
  },
  "language_info": {
   "codemirror_mode": {
    "name": "ipython",
    "version": 3
   },
   "file_extension": ".py",
   "mimetype": "text/x-python",
   "name": "python",
   "nbconvert_exporter": "python",
   "pygments_lexer": "ipython3",
   "version": "3.6.1"
  }
 },
 "nbformat": 4,
 "nbformat_minor": 2
}
